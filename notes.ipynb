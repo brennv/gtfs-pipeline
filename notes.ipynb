{
 "cells": [
  {
   "cell_type": "code",
   "execution_count": 4,
   "metadata": {},
   "outputs": [],
   "source": [
    "import zipfile\n",
    "\n",
    "import requests\n",
    "\n",
    "\n",
    "def download(url):\n",
    "    \"\"\"Download GTFS data.\"\"\"\n",
    "    url = 'http://www.samtrans.com/Assets/GTFS/samtrans/ST-GTFS.zip'\n",
    "    filename = url.split('/')[-1]\n",
    "    response = requests.get(url, allow_redirects=True)\n",
    "    open(filename, 'wb').write(response.content)\n",
    "    return filename\n",
    "\n",
    "\n",
    "def unzip(filename):\n",
    "    \"\"\"Unpack zipfile.\"\"\"\n",
    "    zipper = zipfile.ZipFile(filename, 'r')\n",
    "    path = filename.replace('.zip', '/')\n",
    "    zipper.extractall(path)\n",
    "    zipper.close()\n",
    "    return path"
   ]
  },
  {
   "cell_type": "code",
   "execution_count": 5,
   "metadata": {},
   "outputs": [],
   "source": [
    "from feedvalidator import RunValidationOutputToConsole"
   ]
  },
  {
   "cell_type": "code",
   "execution_count": 7,
   "metadata": {},
   "outputs": [
    {
     "ename": "TypeError",
     "evalue": "RunValidationOutputToConsole() takes exactly 2 arguments (1 given)",
     "output_type": "error",
     "traceback": [
      "\u001b[0;31m---------------------------------------------------------------------------\u001b[0m",
      "\u001b[0;31mTypeError\u001b[0m                                 Traceback (most recent call last)",
      "\u001b[0;32m<ipython-input-7-f13bf7e7a8e5>\u001b[0m in \u001b[0;36m<module>\u001b[0;34m()\u001b[0m\n\u001b[0;32m----> 1\u001b[0;31m \u001b[0mRunValidationOutputToConsole\u001b[0m\u001b[0;34m(\u001b[0m\u001b[0;34m'notes/ST-GTFS.zip'\u001b[0m\u001b[0;34m)\u001b[0m\u001b[0;34m\u001b[0m\u001b[0m\n\u001b[0m",
      "\u001b[0;31mTypeError\u001b[0m: RunValidationOutputToConsole() takes exactly 2 arguments (1 given)"
     ]
    }
   ],
   "source": [
    "RunValidationOutputToConsole('notes/ST-GTFS.zip')"
   ]
  },
  {
   "cell_type": "code",
   "execution_count": null,
   "metadata": {},
   "outputs": [],
   "source": [
    "# https://github.com/CUTR-at-USF/gtfs-realtime-validator"
   ]
  },
  {
   "cell_type": "markdown",
   "metadata": {},
   "source": [
    "### Exploring GTFS data\n",
    "\n",
    "Some tools:\n",
    "\n",
    "- [GTFS.org/testing](http://gtfs.org/testing/)\n",
    "- Google [transitfeed](https://github.com/google/transitfeed/wiki) utilities\n",
    "- Conveyal GTFS [datatools](https://github.com/catalogueglobal/datatools-server)\n",
    "- Mapzen [transitland](https://transit.land) aggregations and visuals\n",
    "\n",
    "Sample [GTFS dataset](http://www.samtrans.com/Developer.html)"
   ]
  },
  {
   "cell_type": "code",
   "execution_count": null,
   "metadata": {},
   "outputs": [],
   "source": []
  }
 ],
 "metadata": {
  "kernelspec": {
   "display_name": "Python 2",
   "language": "python",
   "name": "python2"
  },
  "language_info": {
   "codemirror_mode": {
    "name": "ipython",
    "version": 2
   },
   "file_extension": ".py",
   "mimetype": "text/x-python",
   "name": "python",
   "nbconvert_exporter": "python",
   "pygments_lexer": "ipython2",
   "version": "2.7.14"
  }
 },
 "nbformat": 4,
 "nbformat_minor": 2
}
